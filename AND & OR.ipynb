{
 "cells": [
  {
   "cell_type": "code",
   "execution_count": 6,
   "metadata": {},
   "outputs": [
    {
     "name": "stdout",
     "output_type": "stream",
     "text": [
      "digite a sua idade: 11\n",
      "não pode dirigir\n"
     ]
    }
   ],
   "source": [
    "# AND = e\n",
    "idade = int(input(\"digite a sua idade: \"));\n",
    "if idade >= 18 and idade <=60:\n",
    "    print(\"pode dirigir\")\n",
    "else:\n",
    "    print(\"não pode dirigir\")"
   ]
  },
  {
   "cell_type": "code",
   "execution_count": 8,
   "metadata": {},
   "outputs": [
    {
     "name": "stdout",
     "output_type": "stream",
     "text": [
      "digite a corazul\n",
      "acertou a cor\n"
     ]
    }
   ],
   "source": [
    "# or = ou\n",
    "cor = str(input(\"digite a cor\"));\n",
    "if cor == \"azul\" or cor == 'preto':\n",
    "    print(\"acertou a cor\")\n",
    "else:\n",
    "    print(\"errou a cor\")"
   ]
  },
  {
   "cell_type": "code",
   "execution_count": null,
   "metadata": {},
   "outputs": [],
   "source": []
  }
 ],
 "metadata": {
  "kernelspec": {
   "display_name": "Python 3",
   "language": "python",
   "name": "python3"
  },
  "language_info": {
   "codemirror_mode": {
    "name": "ipython",
    "version": 3
   },
   "file_extension": ".py",
   "mimetype": "text/x-python",
   "name": "python",
   "nbconvert_exporter": "python",
   "pygments_lexer": "ipython3",
   "version": "3.8.5"
  }
 },
 "nbformat": 4,
 "nbformat_minor": 4
}
