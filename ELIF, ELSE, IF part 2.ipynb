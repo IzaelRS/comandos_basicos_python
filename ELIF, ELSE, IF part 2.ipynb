{
 "cells": [
  {
   "cell_type": "code",
   "execution_count": null,
   "metadata": {},
   "outputs": [],
   "source": [
    "semana = int(input(\"digite um número de 1 a 7 \"));\n",
    "\n",
    "if semana == 1:\n",
    "    print(\"você escolheu domingo\")\n",
    "elif semana == 2:\n",
    "    print(\"você escolheu segunda-feira\")\n",
    "elif semana == 3:\n",
    "    print(\"você escolheu terça-feira\")\n",
    "elif semana == 4:\n",
    "    print(\"você escolheu quarta-feira\")\n",
    "elif semana == 5:\n",
    "    print(\"você escolheu quinta-feira\")\n",
    "elif semana == 6:\n",
    "    print(\"você escolheu sexta-feira\")\n",
    "elif semana == 7:\n",
    "    print(\"você escolheu sábado\")\n",
    "else:\n",
    "    print('escolha um número de 1 á 7')\n",
    "    \n"
   ]
  },
  {
   "cell_type": "code",
   "execution_count": 9,
   "metadata": {},
   "outputs": [
    {
     "name": "stdout",
     "output_type": "stream",
     "text": [
      "qual a sua idade?22\n",
      "True\n"
     ]
    }
   ],
   "source": [
    "idade = int(input(\"qual a sua idade?: \"))\n",
    "pode = idade >= 18\n",
    "print (pode)"
   ]
  },
  {
   "cell_type": "code",
   "execution_count": null,
   "metadata": {},
   "outputs": [],
   "source": []
  }
 ],
 "metadata": {
  "kernelspec": {
   "display_name": "Python 3",
   "language": "python",
   "name": "python3"
  },
  "language_info": {
   "codemirror_mode": {
    "name": "ipython",
    "version": 3
   },
   "file_extension": ".py",
   "mimetype": "text/x-python",
   "name": "python",
   "nbconvert_exporter": "python",
   "pygments_lexer": "ipython3",
   "version": "3.8.5"
  }
 },
 "nbformat": 4,
 "nbformat_minor": 4
}
