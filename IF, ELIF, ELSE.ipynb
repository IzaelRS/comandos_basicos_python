{
 "cells": [
  {
   "cell_type": "code",
   "execution_count": 1,
   "metadata": {},
   "outputs": [
    {
     "name": "stdout",
     "output_type": "stream",
     "text": [
      "Digite a sua idade: 55\n",
      "True\n"
     ]
    }
   ],
   "source": [
    "idade = int(input(\"Digite a sua idade: \"))\n",
    "verificar = idade >= 18\n",
    "print (verificar)"
   ]
  },
  {
   "cell_type": "code",
   "execution_count": null,
   "metadata": {},
   "outputs": [],
   "source": [
    "#exemplo if e else (se e senão)"
   ]
  },
  {
   "cell_type": "code",
   "execution_count": null,
   "metadata": {},
   "outputs": [],
   "source": [
    "idade = int(input(\"Digite a sua idade: \"));\n",
    "verificar = idade >= 18\n",
    "if verificar == True:\n",
    "    print(\"pode dirigir\");\n",
    "else:\n",
    "    print ('não pode dirigir');"
   ]
  },
  {
   "cell_type": "code",
   "execution_count": null,
   "metadata": {},
   "outputs": [],
   "source": [
    "# exemplo if e else (se e se/se)"
   ]
  },
  {
   "cell_type": "code",
   "execution_count": null,
   "metadata": {},
   "outputs": [],
   "source": [
    "idade = int(input(\"Digite a sua idade: \"));\n",
    "verificar = idade >= 18\n",
    "if verificar == True:\n",
    "    print(\"pode dirigir\");\n",
    "elif verificar == False:\n",
    "    print ('não pode dirigir');\n",
    "    "
   ]
  },
  {
   "cell_type": "code",
   "execution_count": null,
   "metadata": {},
   "outputs": [],
   "source": [
    "# criar um sistema que verifica qual o número entre 2 números o maior"
   ]
  },
  {
   "cell_type": "code",
   "execution_count": 3,
   "metadata": {},
   "outputs": [
    {
     "name": "stdout",
     "output_type": "stream",
     "text": [
      "insira o primero número1\n",
      "insira o segundo número1\n",
      "os dois números são idênticos\n"
     ]
    }
   ],
   "source": [
    "num1 = int(input(\"insira o primero número: \"));\n",
    "num2 = int(input(\"insira o segundo número: \"));\n",
    "\n",
    "if num1 > num2:\n",
    "    print (\"o primeiro núemro digitado é maior que o segundo número digitado\");\n",
    "elif num1 < num2:\n",
    "    print ('o segundo número digitado é maior que o primeiro número digitado');\n",
    "elif num1 == num2:\n",
    "    print (\"os dois números são idênticos\");"
   ]
  },
  {
   "cell_type": "code",
   "execution_count": null,
   "metadata": {},
   "outputs": [],
   "source": [
    "# sistema entre"
   ]
  },
  {
   "cell_type": "code",
   "execution_count": 6,
   "metadata": {},
   "outputs": [
    {
     "name": "stdout",
     "output_type": "stream",
     "text": [
      "Digite a sua idade11\n",
      "Sua idade é 11 anos, ela não está entre 20 a 60 anos\n"
     ]
    }
   ],
   "source": [
    "idade = int(input(\"Digite a sua idade\"));\n",
    "\n",
    "if idade >= 20:\n",
    "    if idade <= 60:\n",
    "        print(\"Sua idade é {} anos, então ela está entre 20 a 60 anos\".format(idade));\n",
    "    else:\n",
    "        print(\"Sua idade é {} anos, ela não está entre 20 a 60 anos\".format(idade));\n",
    "else:\n",
    "    print(\"Sua idade é {} anos, ela não está entre 20 a 60 anos\".format(idade));\n",
    "            "
   ]
  },
  {
   "cell_type": "code",
   "execution_count": null,
   "metadata": {},
   "outputs": [],
   "source": []
  }
 ],
 "metadata": {
  "kernelspec": {
   "display_name": "Python 3",
   "language": "python",
   "name": "python3"
  },
  "language_info": {
   "codemirror_mode": {
    "name": "ipython",
    "version": 3
   },
   "file_extension": ".py",
   "mimetype": "text/x-python",
   "name": "python",
   "nbconvert_exporter": "python",
   "pygments_lexer": "ipython3",
   "version": "3.8.5"
  }
 },
 "nbformat": 4,
 "nbformat_minor": 4
}
