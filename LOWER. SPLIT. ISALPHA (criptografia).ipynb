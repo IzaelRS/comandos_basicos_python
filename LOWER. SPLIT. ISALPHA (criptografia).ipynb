{
 "cells": [
  {
   "cell_type": "code",
   "execution_count": 16,
   "metadata": {},
   "outputs": [],
   "source": [
    "tamanho_max = 26"
   ]
  },
  {
   "cell_type": "code",
   "execution_count": 17,
   "metadata": {},
   "outputs": [],
   "source": [
    "# função que pergunta se o usúario quer criptografar ou descriptografar e garante uma entrada válida foi recebida"
   ]
  },
  {
   "cell_type": "code",
   "execution_count": 18,
   "metadata": {},
   "outputs": [],
   "source": [
    "def recebeModo ():\n",
    "    while True:\n",
    "        modo = input(\"Você deseja criptografar ou descriptografar? \\n. \").lower() #função para entrada de caracteres minusculas\n",
    "        if modo in 'criptografar c descriptografar d'.split():# função de validação de caracteres\n",
    "            return modo\n",
    "        else:\n",
    "            print(\"Entre 'criptografar' ou 'c' ou 'descriptografar' ou 'd'.\")"
   ]
  },
  {
   "cell_type": "code",
   "execution_count": 19,
   "metadata": {},
   "outputs": [],
   "source": [
    "# função que pede o valor da chave para o usuário e devolve a chave caso o valor desta esteja adequado"
   ]
  },
  {
   "cell_type": "code",
   "execution_count": 20,
   "metadata": {},
   "outputs": [],
   "source": [
    "def receberChave():\n",
    "    global tamanho_max\n",
    "    chave = 0\n",
    "    \n",
    "    while True: \n",
    "        chave = int(input(\"Entre com o número da chave (1-{0}) \".format(tamanho_max))) # colocar um tamanho maximo\n",
    "        if 1 <= chave <= tamanho_max: # reforçar o tamanho maximo e o tamnho minimo\n",
    "            return chave"
   ]
  },
  {
   "cell_type": "code",
   "execution_count": 21,
   "metadata": {},
   "outputs": [],
   "source": [
    "# função que traduz a mensagem do usuário de modo conveniente"
   ]
  },
  {
   "cell_type": "code",
   "execution_count": 22,
   "metadata": {},
   "outputs": [],
   "source": [
    "def gerarMsgTraduzida (modo, mensagem, chave):\n",
    "    if modo [0] == 'd': # se o array na posição 0 for igual a == d\n",
    "        chave *= -1 # comando serve para inverter valores\n",
    "    traduzido = \" \"\n",
    "    for simbolo in mensagem:\n",
    "        if simbolo.isalpha(): #isaplha serve para verificar se há algum caracter especial(#@%&*)\n",
    "            num = ord(simbolo) # ord comando de ordenar\n",
    "            num += chave # variavel num recebe num e acressenta no var chave \n",
    "                \n",
    "            if simbolo.isupper(): #verificação de caracteres maiusculos\n",
    "                if num > ord (\"Z\"): #verficação maxima\n",
    "                    num -= 26\n",
    "                elif num < ord (\"A\"):#verificação minima\n",
    "                    num += 26\n",
    "            elif simbolo.islower():\n",
    "                if num > ord (\"z\"): #verficação maxima\n",
    "                    num -= 26\n",
    "                elif num < ord (\"a\"):#verificação minima\n",
    "                    num += 26\n",
    "                    \n",
    "        traduzido += chr(num) # chr retorna expectativa letra\n",
    "    else:\n",
    "        traduzido += simbolo\n",
    "    return traduzido\n",
    "                "
   ]
  },
  {
   "cell_type": "code",
   "execution_count": 23,
   "metadata": {},
   "outputs": [],
   "source": [
    "# função principal do programa"
   ]
  },
  {
   "cell_type": "code",
   "execution_count": 25,
   "metadata": {},
   "outputs": [
    {
     "name": "stdout",
     "output_type": "stream",
     "text": [
      "Você deseja criptografar ou descriptografar? \n",
      ". d\n",
      "Entre com a mensagem \n",
      "ofgkrl\n",
      "Entre com o número da chave (1-26) 6\n",
      "Seu texto traduzido é: \n",
      " izaelfl\n"
     ]
    }
   ],
   "source": [
    "def main():\n",
    "    modo = recebeModo()\n",
    "    mensagem = input (\"Entre com a mensagem \\n\")\n",
    "    chave = receberChave()\n",
    "    print (\"Seu texto traduzido é: \")\n",
    "    print (gerarMsgTraduzida(modo, mensagem, chave))\n",
    "main()"
   ]
  },
  {
   "cell_type": "code",
   "execution_count": null,
   "metadata": {},
   "outputs": [],
   "source": []
  }
 ],
 "metadata": {
  "kernelspec": {
   "display_name": "Python 3",
   "language": "python",
   "name": "python3"
  },
  "language_info": {
   "codemirror_mode": {
    "name": "ipython",
    "version": 3
   },
   "file_extension": ".py",
   "mimetype": "text/x-python",
   "name": "python",
   "nbconvert_exporter": "python",
   "pygments_lexer": "ipython3",
   "version": "3.8.5"
  }
 },
 "nbformat": 4,
 "nbformat_minor": 4
}
