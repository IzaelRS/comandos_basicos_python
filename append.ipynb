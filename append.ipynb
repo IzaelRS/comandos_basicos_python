{
 "cells": [
  {
   "cell_type": "code",
   "execution_count": 1,
   "metadata": {},
   "outputs": [
    {
     "name": "stdout",
     "output_type": "stream",
     "text": [
      "Digite um número inteiro: 11\n",
      "Digite um número inteiro: 5\n",
      "Digite um número inteiro: 6\n",
      "Digite um número inteiro: 4\n",
      "Digite um número inteiro: 3\n",
      "Digite um número inteiro: -1\n",
      "Qual o número digitado você gostaria de verificar?: 11\n",
      "O elemento 11, aparece 1 vezes na lista\n"
     ]
    }
   ],
   "source": [
    "# etapa 1\n",
    "lista = []\n",
    "num = int(input('Digite um número inteiro: '))\n",
    "\n",
    "\n",
    "# etapa 2\n",
    "while num != -1: # != sinal de diferente\n",
    "    lista.append(num)# esse comando serve para amazenar a variavel num dentro da lista quando digitado!\n",
    "    num = int(input('Digite um número inteiro: '))\n",
    "#etapa 3\n",
    "elemento = int(input('Qual o número digitado você gostaria de verificar?: '))\n",
    "cont = 0\n",
    "#etapa 4\n",
    "for i in range (len(lista)):\n",
    "    if lista [i] == elemento:\n",
    "        cont += 1 # cont = cont = 1\n",
    "        \n",
    "print('O elemento {0}, aparece {1} vezes na lista'.format(elemento,cont))\n",
    "    "
   ]
  },
  {
   "cell_type": "code",
   "execution_count": null,
   "metadata": {},
   "outputs": [],
   "source": []
  }
 ],
 "metadata": {
  "kernelspec": {
   "display_name": "Python 3",
   "language": "python",
   "name": "python3"
  },
  "language_info": {
   "codemirror_mode": {
    "name": "ipython",
    "version": 3
   },
   "file_extension": ".py",
   "mimetype": "text/x-python",
   "name": "python",
   "nbconvert_exporter": "python",
   "pygments_lexer": "ipython3",
   "version": "3.8.5"
  }
 },
 "nbformat": 4,
 "nbformat_minor": 4
}
