{
 "cells": [
  {
   "cell_type": "code",
   "execution_count": null,
   "metadata": {},
   "outputs": [],
   "source": [
    "alunos = 8\n",
    "medias = []\n",
    "\n",
    "for  i in range (1, alunos + 1):# acrecentei + 1 pelo fato do range sempre começar por 0\n",
    "    notas = 0\n",
    "    for j in range (1,5):# mesma coisa com esse exemplo\n",
    "        notas += float(input(' Digite a nota {} de 4 notas do aluno {} de {}:'.format(j,i,alunos)))\n",
    "    notas /= 4 # '/=4' vai pegar a notas e vai dividir por 4\n",
    "    medias.append(notas)\n",
    "    \n",
    "num = 0\n",
    "for media in medias: # acrescentei uma nova váriavel média( calcula a media da várial médias)\n",
    "    if media >= 6:\n",
    "        num += 1 # num = num + 1\n",
    "print(\"O número de alunos com a média maior que 6 é: {}\".format(num))\n",
    "    \n"
   ]
  },
  {
   "cell_type": "code",
   "execution_count": null,
   "metadata": {},
   "outputs": [],
   "source": []
  }
 ],
 "metadata": {
  "kernelspec": {
   "display_name": "Python 3",
   "language": "python",
   "name": "python3"
  },
  "language_info": {
   "codemirror_mode": {
    "name": "ipython",
    "version": 3
   },
   "file_extension": ".py",
   "mimetype": "text/x-python",
   "name": "python",
   "nbconvert_exporter": "python",
   "pygments_lexer": "ipython3",
   "version": "3.8.5"
  }
 },
 "nbformat": 4,
 "nbformat_minor": 4
}
