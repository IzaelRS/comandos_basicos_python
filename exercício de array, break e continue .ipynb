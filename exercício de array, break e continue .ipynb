{
 "cells": [
  {
   "cell_type": "code",
   "execution_count": null,
   "metadata": {},
   "outputs": [],
   "source": [
    "# Escreva  uma função que produza a soma dos primeiros N números de uma lista com tamanho M"
   ]
  },
  {
   "cell_type": "code",
   "execution_count": 5,
   "metadata": {},
   "outputs": [
    {
     "name": "stdout",
     "output_type": "stream",
     "text": [
      "Digite o número máximo de caracteres dentro de lista: 7\n",
      "Digite o elemento 1 de 71\n",
      "Digite o elemento 2 de 72\n",
      "Digite o elemento 3 de 73\n",
      "Digite o elemento 4 de 74\n",
      "Digite o elemento 5 de 75\n",
      "Digite o elemento 6 de 76\n",
      "Digite o elemento 7 de 75\n",
      "Digite de elementos que deseja somar: 3\n",
      "A soma é:, 6.0\n"
     ]
    }
   ],
   "source": [
    "# primeira etapa concluida, criei uma função (1) que pega a quantidade máxima de caracteres (2), depois criei um contador (3),\n",
    "# que recebe cada elemento (4) e amazena dentro da lista (5) e finalizando o retorno da lista #6\n",
    "#part1\n",
    "def criar_lista(): #1\n",
    "    lista = []\n",
    "    \n",
    "    m = int(input(\"Digite o número máximo de caracteres dentro de lista: \")) #2\n",
    "    \n",
    "    for i in range (m): #3\n",
    "        elemento = float(input(\"Digite o elemento {} de {} :\".format(i+1, m))) #4\n",
    "        lista.append(elemento) #5\n",
    "    return lista #6\n",
    "\n",
    "# Na parte 2, criei uma função de adição (7), também criei uma var para pegar o valor da função criar_lista(8).\n",
    "# Logo em seguida criei uma var para que usuaria informe quantos caracter da lista deseja somar(9), em seguida, criei uma \n",
    "# var soma (10) para inserir uma valor de 0 nela, depois na linha abaixo criei um contador (11), que se enquanto\n",
    "# var n for igual a var i ele vai receber bkeak(limitador). (12)Para finalizar fiz soma que é igual a 0 mais listaSoma.\n",
    "# o ponta chave foi tranformar os dados da lista(Criar_lista) para var(listaSoma)\n",
    "#part2\n",
    "def adicao (): #(7)\n",
    "    listaSoma = criar_lista() #(8)\n",
    "    \n",
    "    n = int(input(\"Digite quantos elementos deseja somar: \")) #(9)\n",
    "    \n",
    "    soma = 0 # 10\n",
    "    for i in range(len(listaSoma)): #11 # coloque len para fazer a função de contagem de caracter dentro da variavel listaSoma\n",
    "        if i == n:\n",
    "            break\n",
    "        soma += listaSoma[i] #12\n",
    "    print(\"A soma é:,\", soma)\n",
    "    \n",
    "adicao() # finalizar funçãodef\n"
   ]
  },
  {
   "cell_type": "code",
   "execution_count": 10,
   "metadata": {},
   "outputs": [
    {
     "name": "stdout",
     "output_type": "stream",
     "text": [
      "limitador2\n",
      "3\n"
     ]
    }
   ],
   "source": [
    "numeros = [1,2,4,5]\n",
    "\n",
    "limitador = int(input(\"limitador\"))\n",
    "\n",
    "resultado = 0\n",
    "\n",
    "for i in range (len(numeros)): # função para pegar o tamanha da variavel\n",
    "    if i == limitador:\n",
    "        break\n",
    "    resultado += numeros[i]\n",
    "print(resultado)"
   ]
  },
  {
   "cell_type": "code",
   "execution_count": null,
   "metadata": {},
   "outputs": [],
   "source": []
  }
 ],
 "metadata": {
  "kernelspec": {
   "display_name": "Python 3",
   "language": "python",
   "name": "python3"
  },
  "language_info": {
   "codemirror_mode": {
    "name": "ipython",
    "version": 3
   },
   "file_extension": ".py",
   "mimetype": "text/x-python",
   "name": "python",
   "nbconvert_exporter": "python",
   "pygments_lexer": "ipython3",
   "version": "3.8.5"
  }
 },
 "nbformat": 4,
 "nbformat_minor": 4
}
