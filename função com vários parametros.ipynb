{
 "cells": [
  {
   "cell_type": "code",
   "execution_count": 7,
   "metadata": {},
   "outputs": [
    {
     "name": "stdout",
     "output_type": "stream",
     "text": [
      "(1, 2, 3, 4, 10)\n",
      "20\n"
     ]
    }
   ],
   "source": [
    "def soma (*lista): # é preciso colocar o * antes do parametros, para o python reconhecer que há vários parametros\n",
    "    soma_num = 0\n",
    "    print(lista)\n",
    "    \n",
    "    for num in lista:\n",
    "        soma_num += num\n",
    "    return soma_num\n",
    "\n",
    "print(soma(1,2,3,4,10))"
   ]
  },
  {
   "cell_type": "code",
   "execution_count": null,
   "metadata": {},
   "outputs": [],
   "source": [
    "# modelo varialvel global"
   ]
  },
  {
   "cell_type": "code",
   "execution_count": 15,
   "metadata": {},
   "outputs": [
    {
     "name": "stdout",
     "output_type": "stream",
     "text": [
      "digite um número: 6\n",
      "11\n"
     ]
    }
   ],
   "source": [
    "x = int(input(\"digite um número: \"))\n",
    "\n",
    "def incrementa():\n",
    "    global x # antes de digitar os parametros é nescessário chamar a variável x como global\n",
    "    incremento = 5\n",
    "    x += incremento\n",
    "\n",
    "incrementa()\n",
    "print(x)"
   ]
  },
  {
   "cell_type": "code",
   "execution_count": null,
   "metadata": {},
   "outputs": [],
   "source": [
    "# exemplo 3"
   ]
  },
  {
   "cell_type": "code",
   "execution_count": 23,
   "metadata": {},
   "outputs": [
    {
     "name": "stdout",
     "output_type": "stream",
     "text": [
      "digite um número: 5\n",
      "digite outro número: 7\n",
      "12\n"
     ]
    }
   ],
   "source": [
    "s1 = int(input(\"digite um número: \"))\n",
    "s2 = int(input(\"digite outro número: \"))\n",
    "\n",
    "def adicao():\n",
    "    global s1\n",
    "    global s2\n",
    "    s1 += s2\n",
    "    \n",
    "adicao()\n",
    "print(s1)\n"
   ]
  },
  {
   "cell_type": "code",
   "execution_count": null,
   "metadata": {},
   "outputs": [],
   "source": []
  }
 ],
 "metadata": {
  "kernelspec": {
   "display_name": "Python 3",
   "language": "python",
   "name": "python3"
  },
  "language_info": {
   "codemirror_mode": {
    "name": "ipython",
    "version": 3
   },
   "file_extension": ".py",
   "mimetype": "text/x-python",
   "name": "python",
   "nbconvert_exporter": "python",
   "pygments_lexer": "ipython3",
   "version": "3.8.5"
  }
 },
 "nbformat": 4,
 "nbformat_minor": 4
}
