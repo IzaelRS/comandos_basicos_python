{
 "cells": [
  {
   "cell_type": "code",
   "execution_count": null,
   "metadata": {},
   "outputs": [],
   "source": [
    "# DEF nome_funcao(parametros):"
   ]
  },
  {
   "cell_type": "code",
   "execution_count": 3,
   "metadata": {},
   "outputs": [
    {
     "name": "stdout",
     "output_type": "stream",
     "text": [
      "8\n"
     ]
    }
   ],
   "source": [
    "#exemplo 1\n",
    "def soma (num1,num2):\n",
    "    total = num1 + num2\n",
    "    return total\n",
    "\n",
    "print(soma(4,4))"
   ]
  },
  {
   "cell_type": "code",
   "execution_count": 9,
   "metadata": {},
   "outputs": [
    {
     "name": "stdout",
     "output_type": "stream",
     "text": [
      "7\n"
     ]
    }
   ],
   "source": [
    "#exemplo 2\n",
    "def soma (num3, num4):\n",
    "    total = num3 + num4\n",
    "    return total\n",
    "valores = soma (2,5)\n",
    "print(valores)"
   ]
  },
  {
   "cell_type": "code",
   "execution_count": 14,
   "metadata": {},
   "outputs": [
    {
     "name": "stdout",
     "output_type": "stream",
     "text": [
      "9 14\n"
     ]
    }
   ],
   "source": [
    "#exemplo 3 efeito multiplo\n",
    "def operacao(num5, num6):\n",
    "    adc = num5 + num6\n",
    "    mult = num5 * num6\n",
    "    return adc, mult\n",
    "a,b = operacao (2,7) # valores dos calculos\n",
    "print(a,b)"
   ]
  },
  {
   "cell_type": "code",
   "execution_count": null,
   "metadata": {},
   "outputs": [],
   "source": []
  }
 ],
 "metadata": {
  "kernelspec": {
   "display_name": "Python 3",
   "language": "python",
   "name": "python3"
  },
  "language_info": {
   "codemirror_mode": {
    "name": "ipython",
    "version": 3
   },
   "file_extension": ".py",
   "mimetype": "text/x-python",
   "name": "python",
   "nbconvert_exporter": "python",
   "pygments_lexer": "ipython3",
   "version": "3.8.5"
  }
 },
 "nbformat": 4,
 "nbformat_minor": 4
}
