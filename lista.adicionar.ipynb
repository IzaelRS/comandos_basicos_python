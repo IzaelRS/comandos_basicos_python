{
 "cells": [
  {
   "cell_type": "code",
   "execution_count": 3,
   "metadata": {},
   "outputs": [
    {
     "name": "stdout",
     "output_type": "stream",
     "text": [
      "['maça', 'melão', 'banana', 'laranja', 'pêra']\n"
     ]
    }
   ],
   "source": [
    "cesta = ['maça','melão','banana','laranja','pêra']\n",
    "print (cesta)"
   ]
  },
  {
   "cell_type": "code",
   "execution_count": 4,
   "metadata": {},
   "outputs": [
    {
     "name": "stdout",
     "output_type": "stream",
     "text": [
      "digite uma fruta: izael\n",
      "['maça', 'melão', 'banana', 'laranja', 'pêra', 'izael']\n"
     ]
    }
   ],
   "source": [
    "fruta = str(input(\"digite uma fruta: \"));\n",
    "cesta.append(fruta)\n",
    "print (cesta)"
   ]
  },
  {
   "cell_type": "code",
   "execution_count": null,
   "metadata": {},
   "outputs": [],
   "source": []
  }
 ],
 "metadata": {
  "kernelspec": {
   "display_name": "Python 3",
   "language": "python",
   "name": "python3"
  },
  "language_info": {
   "codemirror_mode": {
    "name": "ipython",
    "version": 3
   },
   "file_extension": ".py",
   "mimetype": "text/x-python",
   "name": "python",
   "nbconvert_exporter": "python",
   "pygments_lexer": "ipython3",
   "version": "3.8.5"
  }
 },
 "nbformat": 4,
 "nbformat_minor": 4
}
