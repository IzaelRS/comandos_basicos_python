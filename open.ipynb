{
 "cells": [
  {
   "cell_type": "code",
   "execution_count": 19,
   "metadata": {},
   "outputs": [],
   "source": [
    "arquivo = open (\"izael.txt\", 'w')\n",
    "\n",
    "# w - write = escrever\n",
    "# r - read = ler\n",
    "# append - extender\n",
    "\n",
    "arquivo.write('curso de python \\n')\n",
    "arquivo.write('hello word \\n')\n",
    "arquivo.write('Izael Rodrigues')\n",
    "arquivo.write(\"\\n\")\n",
    "arquivo.writelines(['seja ',' o ',' que ',' Deus ',' quiser '])\n",
    "\n",
    "arquivo.close()"
   ]
  },
  {
   "cell_type": "code",
   "execution_count": 21,
   "metadata": {},
   "outputs": [
    {
     "name": "stdout",
     "output_type": "stream",
     "text": [
      "curso de python \n",
      "hello word \n",
      "Izael Rodrigues\n",
      "seja  o  que  Deus  quiser \n"
     ]
    }
   ],
   "source": [
    "arquivo = open (\"izael.txt\", 'r')\n",
    "x = arquivo.read()\n",
    "print (x)"
   ]
  },
  {
   "cell_type": "code",
   "execution_count": null,
   "metadata": {},
   "outputs": [],
   "source": []
  }
 ],
 "metadata": {
  "kernelspec": {
   "display_name": "Python 3",
   "language": "python",
   "name": "python3"
  },
  "language_info": {
   "codemirror_mode": {
    "name": "ipython",
    "version": 3
   },
   "file_extension": ".py",
   "mimetype": "text/x-python",
   "name": "python",
   "nbconvert_exporter": "python",
   "pygments_lexer": "ipython3",
   "version": "3.8.5"
  }
 },
 "nbformat": 4,
 "nbformat_minor": 4
}
