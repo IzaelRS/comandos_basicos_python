{
 "cells": [
  {
   "cell_type": "code",
   "execution_count": 3,
   "metadata": {},
   "outputs": [
    {
     "name": "stdout",
     "output_type": "stream",
     "text": [
      "qual o seu nome?: Izael\n",
      "Olá seu senhor Izael\n"
     ]
    }
   ],
   "source": [
    "nome = str(input(\"qual o seu nome?: \"))\n",
    "x = 'Olá seu senhor %s' %(nome)\n",
    "print(x)"
   ]
  },
  {
   "cell_type": "code",
   "execution_count": 4,
   "metadata": {},
   "outputs": [
    {
     "name": "stdout",
     "output_type": "stream",
     "text": [
      "qual o seu nome?: Izael\n",
      "Olá seu senhor Izael\n"
     ]
    }
   ],
   "source": [
    "nome = str(input(\"qual o seu nome?: \"))\n",
    "x = 'Olá seu senhor {0}'.format(nome)\n",
    "print(x)"
   ]
  },
  {
   "cell_type": "code",
   "execution_count": null,
   "metadata": {},
   "outputs": [],
   "source": [
    "#END"
   ]
  },
  {
   "cell_type": "code",
   "execution_count": 5,
   "metadata": {},
   "outputs": [
    {
     "name": "stdout",
     "output_type": "stream",
     "text": [
      "Izael Rodrigues\n"
     ]
    }
   ],
   "source": [
    "print(\"Izael\", end = \" \")\n",
    "print(\"Rodrigues\")"
   ]
  }
 ],
 "metadata": {
  "kernelspec": {
   "display_name": "Python 3",
   "language": "python",
   "name": "python3"
  },
  "language_info": {
   "codemirror_mode": {
    "name": "ipython",
    "version": 3
   },
   "file_extension": ".py",
   "mimetype": "text/x-python",
   "name": "python",
   "nbconvert_exporter": "python",
   "pygments_lexer": "ipython3",
   "version": "3.8.5"
  }
 },
 "nbformat": 4,
 "nbformat_minor": 4
}
