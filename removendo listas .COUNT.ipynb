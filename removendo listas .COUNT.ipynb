{
 "cells": [
  {
   "cell_type": "code",
   "execution_count": 1,
   "metadata": {},
   "outputs": [],
   "source": [
    "# peça uma lista de números inteiros ao usuario e imprima a mesma sem repetições!#\n"
   ]
  },
  {
   "cell_type": "code",
   "execution_count": 2,
   "metadata": {},
   "outputs": [
    {
     "name": "stdout",
     "output_type": "stream",
     "text": [
      "Digite o número de elementos da lista: 5\n",
      "Digite o elemento 1 de 5:6\n",
      "Digite o elemento 2 de 5:6\n",
      "Digite o elemento 3 de 5:6\n",
      "Digite o elemento 4 de 5:5\n",
      "Digite o elemento 5 de 5:5\n",
      "[6, 6, 6, 5, 5]\n",
      "[6, 5]\n"
     ]
    }
   ],
   "source": [
    "n = int(input('Digite o número de elementos da lista: '))\n",
    "\n",
    "lista = []\n",
    "aux = []\n",
    "\n",
    "for i in range (n): # lembrese- se dessa var i\n",
    "    elemento = int(input(\"Digite o elemento {} de {}:\".format(i + 1,n)))\n",
    "    lista.append(elemento)\n",
    "    aux.append(elemento)\n",
    "    \n",
    "print (lista)\n",
    "\n",
    "#etapa 2\n",
    "\n",
    "for elemento2 in aux: # elemento é cada número dentro da lista aux\n",
    "    aparicoes = lista.count(elemento2) # .cont \"vai contar cada elemento2 dentro do array lista\"\n",
    "    for i in range (aparicoes-1): # ultilizando a mesma variavel (i), iremos fazer uma subtração ultilizando a variavel (aparecoes)\n",
    "        lista.remove(elemento2) # usar comando .remove()\n",
    "        \n",
    "print(lista)\n"
   ]
  },
  {
   "cell_type": "code",
   "execution_count": null,
   "metadata": {},
   "outputs": [],
   "source": []
  }
 ],
 "metadata": {
  "kernelspec": {
   "display_name": "Python 3",
   "language": "python",
   "name": "python3"
  },
  "language_info": {
   "codemirror_mode": {
    "name": "ipython",
    "version": 3
   },
   "file_extension": ".py",
   "mimetype": "text/x-python",
   "name": "python",
   "nbconvert_exporter": "python",
   "pygments_lexer": "ipython3",
   "version": "3.8.5"
  }
 },
 "nbformat": 4,
 "nbformat_minor": 4
}
