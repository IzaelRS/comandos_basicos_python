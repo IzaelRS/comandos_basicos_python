{
 "cells": [
  {
   "cell_type": "code",
   "execution_count": 4,
   "metadata": {},
   "outputs": [
    {
     "name": "stdout",
     "output_type": "stream",
     "text": [
      "Digitr a sua idade: 18\n",
      "True\n"
     ]
    }
   ],
   "source": [
    "#variéveis Boleanas\n",
    "\n",
    "idade = int(input(\"Digite a sua idade: \"))\n",
    "verificar = idade >= 18\n",
    "print (verificar)"
   ]
  },
  {
   "cell_type": "code",
   "execution_count": 5,
   "metadata": {},
   "outputs": [
    {
     "data": {
      "text/plain": [
       "bool"
      ]
     },
     "execution_count": 5,
     "metadata": {},
     "output_type": "execute_result"
    }
   ],
   "source": [
    "type (verificar)"
   ]
  },
  {
   "cell_type": "code",
   "execution_count": 11,
   "metadata": {},
   "outputs": [
    {
     "name": "stdout",
     "output_type": "stream",
     "text": [
      "Digitr a sua idade: 12\n",
      "não pode dirigir\n"
     ]
    }
   ],
   "source": [
    "idade = int(input(\"Digite a sua idade: \"));\n",
    "verificar = idade >= 18\n",
    "if verificar == True:\n",
    "    print(\"pode dirigir\");\n",
    "else:\n",
    "    print ('não pode dirigir');"
   ]
  },
  {
   "cell_type": "code",
   "execution_count": 10,
   "metadata": {},
   "outputs": [
    {
     "name": "stdout",
     "output_type": "stream",
     "text": [
      "Digitr a sua idade: 11\n",
      "não pode dirigir\n"
     ]
    }
   ],
   "source": [
    "# ou assim\n",
    "\n",
    "idade = int(input(\"Digite a sua idade: \"));\n",
    "verificar = idade >= 18\n",
    "if verificar == True:\n",
    "    print(\"pode dirigir\");\n",
    "elif verificar == False:\n",
    "    print ('não pode dirigir');"
   ]
  },
  {
   "cell_type": "code",
   "execution_count": null,
   "metadata": {},
   "outputs": [],
   "source": []
  }
 ],
 "metadata": {
  "kernelspec": {
   "display_name": "Python 3",
   "language": "python",
   "name": "python3"
  },
  "language_info": {
   "codemirror_mode": {
    "name": "ipython",
    "version": 3
   },
   "file_extension": ".py",
   "mimetype": "text/x-python",
   "name": "python",
   "nbconvert_exporter": "python",
   "pygments_lexer": "ipython3",
   "version": "3.8.5"
  }
 },
 "nbformat": 4,
 "nbformat_minor": 4
}
