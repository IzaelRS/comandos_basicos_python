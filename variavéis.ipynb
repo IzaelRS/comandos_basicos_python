{
 "cells": [
  {
   "cell_type": "code",
   "execution_count": 3,
   "metadata": {},
   "outputs": [
    {
     "name": "stdout",
     "output_type": "stream",
     "text": [
      "digite o seu primeiro número: 4\n",
      "digite o seu segundo número: 8\n",
      "0.5\n"
     ]
    }
   ],
   "source": [
    "num1 = float(input('digite o seu primeiro número: '));\n",
    "num2 = float(input('digite o seu segundo número: '));\n",
    "divisao = num1 / num2\n",
    "print (divisao)"
   ]
  },
  {
   "cell_type": "code",
   "execution_count": 5,
   "metadata": {},
   "outputs": [
    {
     "name": "stdout",
     "output_type": "stream",
     "text": [
      "Me fale a sua idade77\n",
      "A sua idade é 77 anos\n"
     ]
    }
   ],
   "source": [
    "idade = int(input('Me fale a sua idade'));\n",
    "print ('A sua idade é {} anos'.format(idade))"
   ]
  },
  {
   "cell_type": "code",
   "execution_count": 6,
   "metadata": {},
   "outputs": [
    {
     "name": "stdout",
     "output_type": "stream",
     "text": [
      " Eu tenho 30 anos e o meu pai tem 50 anos\n"
     ]
    }
   ],
   "source": [
    "x,y = 30,50\n",
    "\n",
    "print (\" Eu tenho {0} anos e o meu pai tem {1} anos\".format(x,y))\n"
   ]
  },
  {
   "cell_type": "code",
   "execution_count": 7,
   "metadata": {},
   "outputs": [
    {
     "name": "stdout",
     "output_type": "stream",
     "text": [
      "80\n"
     ]
    }
   ],
   "source": [
    "soma = x + y\n",
    "print (soma)"
   ]
  },
  {
   "cell_type": "code",
   "execution_count": 8,
   "metadata": {},
   "outputs": [
    {
     "data": {
      "text/plain": [
       "int"
      ]
     },
     "execution_count": 8,
     "metadata": {},
     "output_type": "execute_result"
    }
   ],
   "source": [
    "type (soma)"
   ]
  },
  {
   "cell_type": "code",
   "execution_count": null,
   "metadata": {},
   "outputs": [],
   "source": []
  }
 ],
 "metadata": {
  "kernelspec": {
   "display_name": "Python 3",
   "language": "python",
   "name": "python3"
  },
  "language_info": {
   "codemirror_mode": {
    "name": "ipython",
    "version": 3
   },
   "file_extension": ".py",
   "mimetype": "text/x-python",
   "name": "python",
   "nbconvert_exporter": "python",
   "pygments_lexer": "ipython3",
   "version": "3.8.5"
  }
 },
 "nbformat": 4,
 "nbformat_minor": 4
}
